{
 "cells": [
  {
   "cell_type": "code",
   "execution_count": 15,
   "metadata": {},
   "outputs": [],
   "source": [
    "from pyspark.sql import SparkSession\n",
    "\n",
    "spark = SparkSession.builder \\\n",
    "    .appName(\"CreditCardApprovalPrediction\") \\\n",
    "    .getOrCreate()"
   ]
  },
  {
   "cell_type": "code",
   "execution_count": 16,
   "metadata": {},
   "outputs": [
    {
     "name": "stderr",
     "output_type": "stream",
     "text": [
      "                                                                                \r"
     ]
    },
    {
     "name": "stdout",
     "output_type": "stream",
     "text": [
      "+-------+-----------+------------+---------------+------------+----------------+--------------------+--------------------+--------------------+-----------------+----------+-------------+----------+---------------+----------+----------+---------------+---------------+\n",
      "|     ID|CODE_GENDER|FLAG_OWN_CAR|FLAG_OWN_REALTY|CNT_CHILDREN|AMT_INCOME_TOTAL|    NAME_INCOME_TYPE| NAME_EDUCATION_TYPE|  NAME_FAMILY_STATUS|NAME_HOUSING_TYPE|DAYS_BIRTH|DAYS_EMPLOYED|FLAG_MOBIL|FLAG_WORK_PHONE|FLAG_PHONE|FLAG_EMAIL|OCCUPATION_TYPE|CNT_FAM_MEMBERS|\n",
      "+-------+-----------+------------+---------------+------------+----------------+--------------------+--------------------+--------------------+-----------------+----------+-------------+----------+---------------+----------+----------+---------------+---------------+\n",
      "|5008804|          M|           Y|              Y|           0|        427500.0|             Working|    Higher education|      Civil marriage| Rented apartment|    -12005|        -4542|         1|              1|         0|         0|           NULL|            2.0|\n",
      "|5008805|          M|           Y|              Y|           0|        427500.0|             Working|    Higher education|      Civil marriage| Rented apartment|    -12005|        -4542|         1|              1|         0|         0|           NULL|            2.0|\n",
      "|5008806|          M|           Y|              Y|           0|        112500.0|             Working|Secondary / secon...|             Married|House / apartment|    -21474|        -1134|         1|              0|         0|         0| Security staff|            2.0|\n",
      "|5008808|          F|           N|              Y|           0|        270000.0|Commercial associate|Secondary / secon...|Single / not married|House / apartment|    -19110|        -3051|         1|              0|         1|         1|    Sales staff|            1.0|\n",
      "|5008809|          F|           N|              Y|           0|        270000.0|Commercial associate|Secondary / secon...|Single / not married|House / apartment|    -19110|        -3051|         1|              0|         1|         1|    Sales staff|            1.0|\n",
      "+-------+-----------+------------+---------------+------------+----------------+--------------------+--------------------+--------------------+-----------------+----------+-------------+----------+---------------+----------+----------+---------------+---------------+\n",
      "only showing top 5 rows\n",
      "\n",
      "+-------+--------------+------+\n",
      "|     ID|MONTHS_BALANCE|STATUS|\n",
      "+-------+--------------+------+\n",
      "|5001711|             0|     X|\n",
      "|5001711|            -1|     0|\n",
      "|5001711|            -2|     0|\n",
      "|5001711|            -3|     0|\n",
      "|5001712|             0|     C|\n",
      "+-------+--------------+------+\n",
      "only showing top 5 rows\n",
      "\n"
     ]
    }
   ],
   "source": [
    "\n",
    "# Define file paths\n",
    "path_to_application = 'data/raw/application_record.csv'\n",
    "path_to_credit = 'data/raw/credit_record.csv'\n",
    "\n",
    "# Ingest data into Spark DataFrames\n",
    "applicant_data_spark = spark.read.option(\"header\", \"true\").csv(path_to_application, inferSchema=True)\n",
    "credit_data_spark = spark.read.option(\"header\", \"true\").csv(path_to_credit, inferSchema=True)\n",
    "\n",
    "# Show first few rows for verification\n",
    "applicant_data_spark.show(5)\n",
    "credit_data_spark.show(5)"
   ]
  },
  {
   "cell_type": "code",
   "execution_count": 17,
   "metadata": {},
   "outputs": [
    {
     "name": "stderr",
     "output_type": "stream",
     "text": [
      "[Stage 175:>                                                        (0 + 1) / 1]\r"
     ]
    },
    {
     "name": "stdout",
     "output_type": "stream",
     "text": [
      "+-------+-----------+------------+---------------+------------+----------------+----------------+--------------------+------------------+-----------------+----------+-------------+----------+---------------+----------+----------+---------------+---------------+--------------+------+-----------+-----+\n",
      "|     ID|CODE_GENDER|FLAG_OWN_CAR|FLAG_OWN_REALTY|CNT_CHILDREN|AMT_INCOME_TOTAL|NAME_INCOME_TYPE| NAME_EDUCATION_TYPE|NAME_FAMILY_STATUS|NAME_HOUSING_TYPE|DAYS_BIRTH|DAYS_EMPLOYED|FLAG_MOBIL|FLAG_WORK_PHONE|FLAG_PHONE|FLAG_EMAIL|OCCUPATION_TYPE|CNT_FAM_MEMBERS|MONTHS_BALANCE|STATUS|mode_status|label|\n",
      "+-------+-----------+------------+---------------+------------+----------------+----------------+--------------------+------------------+-----------------+----------+-------------+----------+---------------+----------+----------+---------------+---------------+--------------+------+-----------+-----+\n",
      "|5008806|          M|           Y|              Y|           0|        112500.0|         Working|Secondary / secon...|           Married|House / apartment|    -21474|        -1134|         1|              0|         0|         0| Security staff|            2.0|             0|     C|          C|    1|\n",
      "|5008806|          M|           Y|              Y|           0|        112500.0|         Working|Secondary / secon...|           Married|House / apartment|    -21474|        -1134|         1|              0|         0|         0| Security staff|            2.0|            -1|     C|          C|    1|\n",
      "|5008806|          M|           Y|              Y|           0|        112500.0|         Working|Secondary / secon...|           Married|House / apartment|    -21474|        -1134|         1|              0|         0|         0| Security staff|            2.0|            -2|     C|          C|    1|\n",
      "|5008806|          M|           Y|              Y|           0|        112500.0|         Working|Secondary / secon...|           Married|House / apartment|    -21474|        -1134|         1|              0|         0|         0| Security staff|            2.0|            -3|     C|          C|    1|\n",
      "|5008806|          M|           Y|              Y|           0|        112500.0|         Working|Secondary / secon...|           Married|House / apartment|    -21474|        -1134|         1|              0|         0|         0| Security staff|            2.0|            -4|     C|          C|    1|\n",
      "+-------+-----------+------------+---------------+------------+----------------+----------------+--------------------+------------------+-----------------+----------+-------------+----------+---------------+----------+----------+---------------+---------------+--------------+------+-----------+-----+\n",
      "only showing top 5 rows\n",
      "\n"
     ]
    },
    {
     "name": "stderr",
     "output_type": "stream",
     "text": [
      "                                                                                \r"
     ]
    }
   ],
   "source": [
    "from pyspark.sql.functions import col, when, count, lit, min, max, abs\n",
    "\n",
    "# Drop duplicates\n",
    "applicant_data_spark = applicant_data_spark.dropDuplicates(['ID'])\n",
    "merged_spark_df = applicant_data_spark.join(credit_data_spark, on=\"ID\", how=\"left\")\n",
    "\n",
    "\n",
    "# Mode calculation for 'STATUS'\n",
    "from pyspark.sql import functions as F\n",
    "\n",
    "# Group by 'ID' and calculate mode (most frequent value) for 'STATUS'\n",
    "status_mode_df = merged_spark_df.groupBy('ID').agg(\n",
    "    F.expr(\"first(STATUS)\").alias(\"mode_status\")  # Simplified mode calculation in Spark\n",
    ")\n",
    "\n",
    "# Filter out 'X' values\n",
    "status_mode_df = status_mode_df.filter(status_mode_df['mode_status'] != 'X')\n",
    "\n",
    "# Merge applicant data with status mode\n",
    "merged_spark_df = merged_spark_df.join(status_mode_df, on=\"ID\", how=\"inner\")\n",
    "\n",
    "# Apply the label encoding logic to 'mode_status'\n",
    "merged_spark_df = merged_spark_df.withColumn(\n",
    "    \"label\", when(merged_spark_df[\"mode_status\"].isin(\"0\", \"1\", \"2\", \"3\", \"4\", \"5\"), 0)\n",
    "    .when(merged_spark_df[\"mode_status\"] == \"C\", 1)\n",
    "    .otherwise(lit(None))\n",
    ")\n",
    "\n",
    "# Show the DataFrame after transformations\n",
    "merged_spark_df.show(5)\n"
   ]
  },
  {
   "cell_type": "code",
   "execution_count": 18,
   "metadata": {},
   "outputs": [
    {
     "name": "stderr",
     "output_type": "stream",
     "text": [
      "[Stage 184:>                                                        (0 + 1) / 1]\r"
     ]
    },
    {
     "name": "stdout",
     "output_type": "stream",
     "text": [
      "+-------+-----------+------------+---------------+------------+----------------+--------------------+--------------------+--------------------+-----------------+----------+-------------+----------+---------------+----------+----------+---------------+---------------+--------------+------+-----------+-----+\n",
      "|     ID|CODE_GENDER|FLAG_OWN_CAR|FLAG_OWN_REALTY|CNT_CHILDREN|AMT_INCOME_TOTAL|    NAME_INCOME_TYPE| NAME_EDUCATION_TYPE|  NAME_FAMILY_STATUS|NAME_HOUSING_TYPE|DAYS_BIRTH|DAYS_EMPLOYED|FLAG_MOBIL|FLAG_WORK_PHONE|FLAG_PHONE|FLAG_EMAIL|OCCUPATION_TYPE|CNT_FAM_MEMBERS|MONTHS_BALANCE|STATUS|mode_status|label|\n",
      "+-------+-----------+------------+---------------+------------+----------------+--------------------+--------------------+--------------------+-----------------+----------+-------------+----------+---------------+----------+----------+---------------+---------------+--------------+------+-----------+-----+\n",
      "|5008806|          M|           Y|              Y|           0|        112500.0|             Working|Secondary / secon...|             Married|House / apartment|    -21474|        -1134|         1|              0|         0|         0| Security staff|            2.0|           -23|     X|          C|    1|\n",
      "|5008806|          M|           Y|              Y|           0|        112500.0|             Working|Secondary / secon...|             Married|House / apartment|    -21474|        -1134|         1|              0|         0|         0| Security staff|            2.0|           -21|     X|          C|    1|\n",
      "|5008814|          F|           N|              Y|           0|        283500.0|           Pensioner|    Higher education|           Separated|House / apartment|    -22464|       365243|         1|              0|         0|         0|           NULL|            1.0|           -17|     X|          0|    0|\n",
      "|5008814|          F|           N|              Y|           0|        283500.0|           Pensioner|    Higher education|           Separated|House / apartment|    -22464|       365243|         1|              0|         0|         0|           NULL|            1.0|            -9|     0|          0|    0|\n",
      "|5008832|          F|           N|              Y|           0|        157500.0|             Working|Secondary / secon...|             Married|House / apartment|    -10031|        -1469|         1|              0|         1|         0|       Laborers|            2.0|           -21|     0|          C|    1|\n",
      "|5008841|          M|           N|              Y|           1|        405000.0|Commercial associate|    Higher education|             Married|House / apartment|    -11842|        -2016|         1|              0|         0|         0|       Managers|            3.0|            -3|     0|          0|    0|\n",
      "|5008844|          M|           Y|              Y|           0|        112500.0|Commercial associate|Secondary / secon...|             Married|House / apartment|    -20502|        -4450|         1|              0|         1|         0|        Drivers|            2.0|           -31|     0|          C|    1|\n",
      "|5008844|          M|           Y|              Y|           0|        112500.0|Commercial associate|Secondary / secon...|             Married|House / apartment|    -20502|        -4450|         1|              0|         1|         0|        Drivers|            2.0|           -30|     0|          C|    1|\n",
      "|5008844|          M|           Y|              Y|           0|        112500.0|Commercial associate|Secondary / secon...|             Married|House / apartment|    -20502|        -4450|         1|              0|         1|         0|        Drivers|            2.0|           -18|     0|          C|    1|\n",
      "|5008849|          M|           Y|              Y|           0|        112500.0|Commercial associate|Secondary / secon...|             Married|House / apartment|    -20502|        -4450|         1|              0|         1|         0|        Drivers|            2.0|           -40|     C|          C|    1|\n",
      "|5008853|          M|           Y|              Y|           0|        112500.0|Commercial associate|Secondary / secon...|             Married|House / apartment|    -20502|        -4450|         1|              0|         1|         0|        Drivers|            2.0|           -33|     0|          C|    1|\n",
      "|5008872|          M|           Y|              Y|           0|        360000.0|Commercial associate|Secondary / secon...|             Married|House / apartment|    -16670|        -5364|         1|              0|         1|         0| Security staff|            2.0|            -5|     0|          0|    0|\n",
      "|5008878|          F|           N|              Y|           2|        126000.0|Commercial associate|    Higher education|             Married|House / apartment|    -12411|        -1773|         1|              0|         0|         1|       Managers|            4.0|           -43|     0|          1|    0|\n",
      "|5008881|          F|           N|              Y|           2|        126000.0|Commercial associate|    Higher education|             Married|House / apartment|    -12411|        -1773|         1|              0|         0|         1|       Managers|            4.0|           -16|     0|          C|    1|\n",
      "|5008881|          F|           N|              Y|           2|        126000.0|Commercial associate|    Higher education|             Married|House / apartment|    -12411|        -1773|         1|              0|         0|         1|       Managers|            4.0|            -1|     C|          C|    1|\n",
      "|5008889|          F|           N|              Y|           0|        247500.0|Commercial associate|    Higher education|           Separated| Rented apartment|    -17016|        -1347|         1|              0|         0|         0|     Core staff|            1.0|            -1|     0|          0|    0|\n",
      "|5008894|          F|           N|              Y|           0|        297000.0|Commercial associate|Secondary / secon...|Single / not married| Rented apartment|    -15519|        -3234|         1|              0|         0|         0|       Laborers|            1.0|           -22|     C|          C|    1|\n",
      "|5008894|          F|           N|              Y|           0|        297000.0|Commercial associate|Secondary / secon...|Single / not married| Rented apartment|    -15519|        -3234|         1|              0|         0|         0|       Laborers|            1.0|            -4|     C|          C|    1|\n",
      "|5008894|          F|           N|              Y|           0|        297000.0|Commercial associate|Secondary / secon...|Single / not married| Rented apartment|    -15519|        -3234|         1|              0|         0|         0|       Laborers|            1.0|            -1|     C|          C|    1|\n",
      "|5008895|          F|           N|              Y|           0|        297000.0|Commercial associate|Secondary / secon...|Single / not married| Rented apartment|    -15519|        -3234|         1|              0|         0|         0|       Laborers|            1.0|           -31|     C|          C|    1|\n",
      "+-------+-----------+------------+---------------+------------+----------------+--------------------+--------------------+--------------------+-----------------+----------+-------------+----------+---------------+----------+----------+---------------+---------------+--------------+------+-----------+-----+\n",
      "only showing top 20 rows\n",
      "\n"
     ]
    },
    {
     "name": "stderr",
     "output_type": "stream",
     "text": [
      "                                                                                \r"
     ]
    }
   ],
   "source": [
    "# Sample 5 rows randomly from the test_data_loaded DataFrame\n",
    "_ , sample_data = merged_spark_df.randomSplit([0.9, 0.1], seed=42)\n",
    "\n",
    "# Show the sample data\n",
    "sample_data.show()"
   ]
  },
  {
   "cell_type": "code",
   "execution_count": 19,
   "metadata": {},
   "outputs": [
    {
     "name": "stdout",
     "output_type": "stream",
     "text": [
      "root\n",
      " |-- ID: integer (nullable = true)\n",
      " |-- CODE_GENDER: string (nullable = true)\n",
      " |-- FLAG_OWN_CAR: string (nullable = true)\n",
      " |-- FLAG_OWN_REALTY: string (nullable = true)\n",
      " |-- CNT_CHILDREN: integer (nullable = true)\n",
      " |-- AMT_INCOME_TOTAL: double (nullable = true)\n",
      " |-- NAME_INCOME_TYPE: string (nullable = true)\n",
      " |-- NAME_EDUCATION_TYPE: string (nullable = true)\n",
      " |-- NAME_FAMILY_STATUS: string (nullable = true)\n",
      " |-- NAME_HOUSING_TYPE: string (nullable = true)\n",
      " |-- DAYS_BIRTH: integer (nullable = true)\n",
      " |-- DAYS_EMPLOYED: integer (nullable = true)\n",
      " |-- FLAG_MOBIL: integer (nullable = true)\n",
      " |-- FLAG_WORK_PHONE: integer (nullable = true)\n",
      " |-- FLAG_PHONE: integer (nullable = true)\n",
      " |-- FLAG_EMAIL: integer (nullable = true)\n",
      " |-- OCCUPATION_TYPE: string (nullable = true)\n",
      " |-- CNT_FAM_MEMBERS: double (nullable = true)\n",
      " |-- MONTHS_BALANCE: integer (nullable = true)\n",
      " |-- STATUS: string (nullable = true)\n",
      " |-- mode_status: string (nullable = true)\n",
      " |-- label: integer (nullable = true)\n",
      "\n"
     ]
    }
   ],
   "source": [
    "sample_data.printSchema()"
   ]
  },
  {
   "cell_type": "code",
   "execution_count": 20,
   "metadata": {},
   "outputs": [
    {
     "name": "stderr",
     "output_type": "stream",
     "text": [
      "[Stage 193:>                                                        (0 + 4) / 4]\r"
     ]
    },
    {
     "name": "stdout",
     "output_type": "stream",
     "text": [
      "saved!!\n"
     ]
    },
    {
     "name": "stderr",
     "output_type": "stream",
     "text": [
      "                                                                                \r"
     ]
    }
   ],
   "source": [
    "sample_raw_directory = \"sample/raw\"\n",
    "sample_data.write.parquet(sample_raw_directory)\n",
    "print(\"saved!!\")"
   ]
  },
  {
   "cell_type": "code",
   "execution_count": 7,
   "metadata": {},
   "outputs": [],
   "source": [
    "from process import DataProcessor  "
   ]
  },
  {
   "cell_type": "code",
   "execution_count": 8,
   "metadata": {},
   "outputs": [],
   "source": [
    "sample_processed_directory = \"sample/processed\""
   ]
  },
  {
   "cell_type": "code",
   "execution_count": 9,
   "metadata": {},
   "outputs": [
    {
     "name": "stderr",
     "output_type": "stream",
     "text": [
      "[Stage 149:=============================================>           (4 + 1) / 5]\r"
     ]
    },
    {
     "name": "stdout",
     "output_type": "stream",
     "text": [
      "Data processing complete!\n"
     ]
    },
    {
     "name": "stderr",
     "output_type": "stream",
     "text": [
      "                                                                                \r"
     ]
    }
   ],
   "source": [
    "data_processor = DataProcessor()\n",
    "data_processor.process(input_df=sample_data,output_dir=sample_processed_directory)\n",
    "print(\"Data processing complete!\")"
   ]
  },
  {
   "cell_type": "code",
   "execution_count": 10,
   "metadata": {},
   "outputs": [
    {
     "name": "stdout",
     "output_type": "stream",
     "text": [
      "+-------+-----------+------------+---------------+------------+----------------+--------------------+--------------------+--------------------+-----------------+----------+---------------+----------+----------+---------------+---------------+--------------+------+-----------+-----+------------------+-----------------+---------------------+---------------------+---------------+--------------------+--------------------+\n",
      "|     ID|CODE_GENDER|FLAG_OWN_CAR|FLAG_OWN_REALTY|CNT_CHILDREN|AMT_INCOME_TOTAL|    NAME_INCOME_TYPE| NAME_EDUCATION_TYPE|  NAME_FAMILY_STATUS|NAME_HOUSING_TYPE|FLAG_MOBIL|FLAG_WORK_PHONE|FLAG_PHONE|FLAG_EMAIL|OCCUPATION_TYPE|CNT_FAM_MEMBERS|MONTHS_BALANCE|STATUS|mode_status|label|               AGE|   YEARS_EMPLOYED|INCOME_PER_FAM_MEMBER|CREDIT_HISTORY_LENGTH|RECENT_ACTIVITY|            features|     scaled_features|\n",
      "+-------+-----------+------------+---------------+------------+----------------+--------------------+--------------------+--------------------+-----------------+----------+---------------+----------+----------+---------------+---------------+--------------+------+-----------+-----+------------------+-----------------+---------------------+---------------------+---------------+--------------------+--------------------+\n",
      "|5008811|          F|           N|              Y|           0|        270000.0|Commercial associate|Secondary / secon...|Single / not married|House / apartment|         1|              0|         1|         1|    Sales staff|            1.0|            -7|     C|          C|    1| 52.35616438356164| 8.35890410958904|             270000.0|                    0|              0|[270000.0,270000....|[3.77234065933750...|\n",
      "|5008826|          F|           Y|              N|           0|        130500.0|             Working|   Incomplete higher|             Married|House / apartment|         1|              0|         0|         0|    Accountants|            2.0|           -14|     C|          C|    1| 29.23013698630137|3.021917808219178|              65250.0|                    9|              0|[65250.0,130500.0...|[0.91164899267323...|\n",
      "|5008826|          F|           Y|              N|           0|        130500.0|             Working|   Incomplete higher|             Married|House / apartment|         1|              0|         0|         0|    Accountants|            2.0|            -7|     C|          C|    1| 29.23013698630137|3.021917808219178|              65250.0|                    9|              0|[65250.0,130500.0...|[0.91164899267323...|\n",
      "|5008826|          F|           Y|              N|           0|        130500.0|             Working|   Incomplete higher|             Married|House / apartment|         1|              0|         0|         0|    Accountants|            2.0|            -5|     C|          C|    1| 29.23013698630137|3.021917808219178|              65250.0|                    9|              0|[65250.0,130500.0...|[0.91164899267323...|\n",
      "|5008830|          F|           N|              Y|           0|        157500.0|             Working|Secondary / secon...|             Married|House / apartment|         1|              0|         1|         0|       Laborers|            2.0|            -4|     C|          C|    1|27.482191780821918|4.024657534246575|              78750.0|                    0|              1|[78750.0,157500.0...|[1.10026602564010...|\n",
      "+-------+-----------+------------+---------------+------------+----------------+--------------------+--------------------+--------------------+-----------------+----------+---------------+----------+----------+---------------+---------------+--------------+------+-----------+-----+------------------+-----------------+---------------------+---------------------+---------------+--------------------+--------------------+\n",
      "only showing top 5 rows\n",
      "\n"
     ]
    }
   ],
   "source": [
    "test_data_loaded = spark.read.parquet(sample_processed_directory)\n",
    "test_data_loaded.show(5)"
   ]
  },
  {
   "cell_type": "code",
   "execution_count": 11,
   "metadata": {},
   "outputs": [],
   "source": [
    "model_path = \"rf_model\"  "
   ]
  },
  {
   "cell_type": "code",
   "execution_count": 12,
   "metadata": {},
   "outputs": [
    {
     "name": "stderr",
     "output_type": "stream",
     "text": [
      "[Stage 159:>                                                        (0 + 1) / 1]\r"
     ]
    },
    {
     "name": "stdout",
     "output_type": "stream",
     "text": [
      "RandomForest model loaded successfully!\n"
     ]
    },
    {
     "name": "stderr",
     "output_type": "stream",
     "text": [
      "                                                                                \r"
     ]
    }
   ],
   "source": [
    "from pyspark.ml.classification import RandomForestClassificationModel\n",
    "rf_model = RandomForestClassificationModel.load(model_path)\n",
    "print(\"RandomForest model loaded successfully!\")"
   ]
  },
  {
   "cell_type": "code",
   "execution_count": 14,
   "metadata": {},
   "outputs": [
    {
     "name": "stdout",
     "output_type": "stream",
     "text": [
      "+-----+\n",
      "|label|\n",
      "+-----+\n",
      "|    1|\n",
      "|    1|\n",
      "|    1|\n",
      "|    1|\n",
      "|    1|\n",
      "|    1|\n",
      "|    1|\n",
      "|    1|\n",
      "|    1|\n",
      "|    1|\n",
      "|    1|\n",
      "|    1|\n",
      "|    1|\n",
      "|    1|\n",
      "|    1|\n",
      "|    1|\n",
      "|    1|\n",
      "|    0|\n",
      "|    1|\n",
      "|    1|\n",
      "+-----+\n",
      "only showing top 20 rows\n",
      "\n"
     ]
    }
   ],
   "source": [
    "from pyspark.ml.evaluation import MulticlassClassificationEvaluator\n",
    "\n",
    "# Perform prediction on test data\n",
    "rf_predictions = rf_model.transform(test_data_loaded)\n",
    "\n",
    "rf_predictions.select(\"label\").show()\n"
   ]
  }
 ],
 "metadata": {
  "kernelspec": {
   "display_name": "pyarrow-env",
   "language": "python",
   "name": "python3"
  },
  "language_info": {
   "codemirror_mode": {
    "name": "ipython",
    "version": 3
   },
   "file_extension": ".py",
   "mimetype": "text/x-python",
   "name": "python",
   "nbconvert_exporter": "python",
   "pygments_lexer": "ipython3",
   "version": "3.11.10"
  }
 },
 "nbformat": 4,
 "nbformat_minor": 2
}
